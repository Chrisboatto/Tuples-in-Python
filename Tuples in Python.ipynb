{
 "cells": [
  {
   "cell_type": "code",
   "execution_count": 2,
   "metadata": {},
   "outputs": [],
   "source": [
    "#Tuples With Python\n",
    "\n",
    "#About The Dataset\n",
    "\n",
    "#Imagine you received album recommendations from your friends and compiled all of the recommandations into a table, with specific information about each album.\n",
    "\n",
    "#The table has one row for each movie and several columns:\n",
    "\n",
    "#- **artist** - Name of the artist\n",
    "#- **album** - Name of the album\n",
    "#- **released_year** - Year the album was released\n",
    "#- **length_min_sec** - Length of the album (hours,minutes,seconds)\n",
    "#- **genre** - Genre of the album\n",
    "#- **music_recording_sales_millions** - Music recording sales (millions in USD) on [SONG://DATABASE](http://www.song-database.com/)\n",
    "#- **claimed_sales_millions** - Album's claimed sales (millions in USD) on [SONG://DATABASE](http://www.song-database.com/)\n",
    "#- **date_released** - Date on which the album was released\n",
    "#- **soundtrack** - Indicates if the album is the movie soundtrack (Y) or (N)\n",
    "#- **rating_of_friends** - Indicates the rating from your friends from 1 to 10"
   ]
  },
  {
   "cell_type": "code",
   "execution_count": null,
   "metadata": {},
   "outputs": [],
   "source": [
    "#Tuples\n",
    "\n",
    "#In Python, there are different data types: string, integer and float.\n",
    "\n",
    "#Now, let us create your first tuple with string, integer and float.\n",
    "\n",
    "# Create your first tuple\n",
    "\n",
    "tuple1 = (\"disco\",10,1.2 )\n",
    "tuple1\n",
    "\n",
    "#The type of variable is tuple\n",
    "\n",
    "# Print the type of the tuple you created\n",
    "\n",
    "type(tuple1)"
   ]
  },
  {
   "cell_type": "code",
   "execution_count": 3,
   "metadata": {},
   "outputs": [],
   "source": [
    "#Indexing\n",
    "\n",
    "#Each element of a tuple can be accessed via an index. The following table represents the relationship between the index and the items in the tuple.\n",
    "#Each element can be obtained by the name of the tuple followed by a square bracket with the index number.\n",
    "\n",
    "#We can print out each value in the tuple:\n",
    "\n",
    "# Print the variable on each index\n",
    "\n",
    "print(tuple1[0])\n",
    "print(tuple1[1])\n",
    "print(tuple1[2])\n",
    "\n",
    "#We can print out the type of each value in the tuple:\n",
    "\n",
    "# Print the type of value on each index\n",
    "\n",
    "print(type(tuple1[0]))\n",
    "print(type(tuple1[1]))\n",
    "print(type(tuple1[2]))"
   ]
  },
  {
   "cell_type": "code",
   "execution_count": null,
   "metadata": {},
   "outputs": [],
   "source": [
    "#We can also use negative indexing. \n",
    "#We use the same table above with corresponding negative values\n",
    "\n",
    "#We can obtain the last element as follows (this time we will not use the print statement to display the values):\n",
    "\n",
    "# Use negative index to get the value of the last element\n",
    "\n",
    "tuple1[-1]\n",
    "\n",
    "#We can display the next two elements as follows:\n",
    "\n",
    "# Use negative index to get the value of the second last element\n",
    "\n",
    "tuple1[-2]\n",
    "\n",
    "# Use negative index to get the value of the third last element\n",
    "\n",
    "tuple1[-3]"
   ]
  },
  {
   "cell_type": "code",
   "execution_count": null,
   "metadata": {},
   "outputs": [],
   "source": [
    "#Concatenate Tuples\n",
    "\n",
    "#We can concatenate or combine tuples by using the + sign:\n",
    "\n",
    "# Concatenate two tuples\n",
    "\n",
    "tuple2 = tuple1 + (\"hard rock\", 10)\n",
    "tuple2\n",
    "\n",
    "#We can slice tuples obtaining multiple values."
   ]
  },
  {
   "cell_type": "code",
   "execution_count": null,
   "metadata": {},
   "outputs": [],
   "source": [
    "#Slicing\n",
    "\n",
    "#We can slice tuples, obtaining new tuples with the corresponding elements: \n",
    "\n",
    "# Slice from index 0 to index 2\n",
    "\n",
    "tuple2[0:3]\n",
    "\n",
    "#We can obtain the last two elements of the tuple:\n",
    "    \n",
    "# Slice from index 3 to index 4\n",
    "\n",
    "tuple2[3:5]    \n",
    "\n",
    "#We can obtain the length of a tuple using the length command: \n",
    "\n",
    "# Get the length of tuple\n",
    "\n",
    "len(tuple2)"
   ]
  },
  {
   "cell_type": "code",
   "execution_count": null,
   "metadata": {},
   "outputs": [],
   "source": [
    "#Sorting\n",
    "\n",
    "#Consider the following tuple:\n",
    "\n",
    "# A sample tuple\n",
    "\n",
    "Ratings = (0, 9, 6, 5, 10, 8, 9, 6, 2)\n",
    "\n",
    "#We can sort the values in a tuple and save it to a new tuple: \n",
    "\n",
    "# Sort the tuple\n",
    "\n",
    "RatingsSorted = sorted(Ratings)\n",
    "RatingsSorted"
   ]
  },
  {
   "cell_type": "code",
   "execution_count": null,
   "metadata": {},
   "outputs": [],
   "source": [
    "#Nested Tuple\n",
    "\n",
    "#A tuple can contain another tuple as well as other more complex data types.\n",
    "#This process is called 'nesting'.\n",
    "#Consider the following tuple with several elements: \n",
    "\n",
    "# Create a nest tuple\n",
    "\n",
    "NestedT =(1, 2, (\"pop\", \"rock\") ,(3,4),(\"disco\",(1,2)))\n",
    "\n",
    "#Each element in the tuple including other tuples can be obtained via an index\n",
    "\n",
    "# Print element on each index\n",
    "\n",
    "print(\"Element 0 of Tuple: \", NestedT[0])\n",
    "print(\"Element 1 of Tuple: \", NestedT[1])\n",
    "print(\"Element 2 of Tuple: \", NestedT[2])\n",
    "print(\"Element 3 of Tuple: \", NestedT[3])\n",
    "print(\"Element 4 of Tuple: \", NestedT[4])"
   ]
  },
  {
   "cell_type": "code",
   "execution_count": null,
   "metadata": {},
   "outputs": [],
   "source": [
    "#We can access the nested tuples :\n",
    "\n",
    "# Print element on each index, including nest indexes\n",
    "\n",
    "print(\"Element 2, 0 of Tuple: \",   NestedT[2][0])\n",
    "print(\"Element 2, 1 of Tuple: \",   NestedT[2][1])\n",
    "print(\"Element 3, 0 of Tuple: \",   NestedT[3][0])\n",
    "print(\"Element 3, 1 of Tuple: \",   NestedT[3][1])\n",
    "print(\"Element 4, 0 of Tuple: \",   NestedT[4][0])\n",
    "print(\"Element 4, 1 of Tuple: \",   NestedT[4][1])"
   ]
  },
  {
   "cell_type": "code",
   "execution_count": null,
   "metadata": {},
   "outputs": [],
   "source": [
    "#We can access strings in the second nested tuples using a third index:\n",
    "\n",
    "# Print the first element in the second nested tuples\n",
    "\n",
    "NestedT[2][1][0]\n",
    "\n",
    "# Print the second element in the second nested tuples\n",
    "\n",
    "NestedT[2][1][1]\n",
    "\n",
    "#Similarly, we can access elements nested deeper in the tree with a fourth index:\n",
    "\n",
    "# Print the first element in the second nested tuples\n",
    "\n",
    "NestedT[4][1][0]\n",
    "\n",
    "# Print the second element in the second nested tuples\n",
    "\n",
    "NestedT[4][1][1]"
   ]
  },
  {
   "cell_type": "code",
   "execution_count": 4,
   "metadata": {},
   "outputs": [
    {
     "data": {
      "text/plain": [
       "('pop',\n",
       " 'rock',\n",
       " 'soul',\n",
       " 'hard rock',\n",
       " 'soft rock',\n",
       " 'R&B',\n",
       " 'progressive rock',\n",
       " 'disco')"
      ]
     },
     "execution_count": 4,
     "metadata": {},
     "output_type": "execute_result"
    }
   ],
   "source": [
    "#Quiz on Tuples\n",
    "\n",
    "#Consider the following tuple:\n",
    "\n",
    "# sample tuple\n",
    "\n",
    "genres_tuple = (\"pop\", \"rock\", \"soul\", \"hard rock\", \"soft rock\", \\\n",
    "                \"R&B\", \"progressive rock\", \"disco\") \n",
    "genres_tuple"
   ]
  },
  {
   "cell_type": "code",
   "execution_count": 5,
   "metadata": {},
   "outputs": [
    {
     "data": {
      "text/plain": [
       "8"
      ]
     },
     "execution_count": 5,
     "metadata": {},
     "output_type": "execute_result"
    }
   ],
   "source": [
    "#Find the length of the tuple, genres_tuple:\n",
    "\n",
    "len(genres_tuple)"
   ]
  },
  {
   "cell_type": "code",
   "execution_count": 6,
   "metadata": {},
   "outputs": [
    {
     "data": {
      "text/plain": [
       "'hard rock'"
      ]
     },
     "execution_count": 6,
     "metadata": {},
     "output_type": "execute_result"
    }
   ],
   "source": [
    "#Access the element, with respect to index 3: \n",
    "\n",
    "# Write your code below and press Shift+Enter to execute\n",
    "\n",
    "genres_tuple[3]"
   ]
  },
  {
   "cell_type": "code",
   "execution_count": 7,
   "metadata": {},
   "outputs": [
    {
     "data": {
      "text/plain": [
       "('hard rock', 'soft rock', 'R&B')"
      ]
     },
     "execution_count": 7,
     "metadata": {},
     "output_type": "execute_result"
    }
   ],
   "source": [
    "#Use slicing to obtain indexes 3, 4 and 5:\n",
    "\n",
    "# Write your code below and press Shift+Enter to execute\n",
    "\n",
    "genres_tuple[3:6]"
   ]
  },
  {
   "cell_type": "code",
   "execution_count": 8,
   "metadata": {},
   "outputs": [
    {
     "data": {
      "text/plain": [
       "('pop', 'rock')"
      ]
     },
     "execution_count": 8,
     "metadata": {},
     "output_type": "execute_result"
    }
   ],
   "source": [
    "#Find the first two elements of the tuple genres_tuple:\n",
    "\n",
    "# Write your code below and press Shift+Enter to execute\n",
    "\n",
    "genres_tuple[0:2]"
   ]
  },
  {
   "cell_type": "code",
   "execution_count": null,
   "metadata": {},
   "outputs": [],
   "source": [
    "#Find the first index of \"disco\":\n",
    "\n",
    "# Write your code below and press Shift+Enter to execute\n",
    "\n",
    "genres_tuple.index(\"disco\")"
   ]
  },
  {
   "cell_type": "code",
   "execution_count": null,
   "metadata": {},
   "outputs": [],
   "source": [
    "#Generate a sorted List from the Tuple C_tuple=(-5, 1, -3):\n",
    "\n",
    "# Write your code below and press Shift+Enter to execute\n",
    "\n",
    "C_tuple = (-5, 1, -3)\n",
    "C_list = sorted(C_tuple)\n",
    "C_list"
   ]
  }
 ],
 "metadata": {
  "kernelspec": {
   "display_name": "Python 3",
   "language": "python",
   "name": "python3"
  },
  "language_info": {
   "codemirror_mode": {
    "name": "ipython",
    "version": 3
   },
   "file_extension": ".py",
   "mimetype": "text/x-python",
   "name": "python",
   "nbconvert_exporter": "python",
   "pygments_lexer": "ipython3",
   "version": "3.7.3"
  }
 },
 "nbformat": 4,
 "nbformat_minor": 2
}
